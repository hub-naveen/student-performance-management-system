{
 "cells": [
  {
   "cell_type": "markdown",
   "id": "58ac5f0a-be34-4e6b-ba85-40a855dcf38f",
   "metadata": {},
   "source": [
    "# ===== IMPORT LIBRARIES ====="
   ]
  },
  {
   "cell_type": "code",
   "execution_count": 13,
   "id": "aa4e6019-1bd8-4135-b2ff-3b9a3db57e9b",
   "metadata": {},
   "outputs": [],
   "source": [
    "\n",
    "import pandas as pd\n",
    "import numpy as np\n",
    "import matplotlib.pyplot as plt\n",
    "import seaborn as sns\n",
    "from sklearn.model_selection import train_test_split, cross_val_score\n",
    "from sklearn.ensemble import RandomForestRegressor, RandomForestClassifier\n",
    "from sklearn.preprocessing import LabelEncoder, StandardScaler\n",
    "from sklearn.metrics import mean_squared_error, r2_score, accuracy_score, classification_report, confusion_matrix\n",
    "from sklearn.model_selection import GridSearchCV\n",
    "import warnings\n",
    "warnings.filterwarnings('ignore')"
   ]
  },
  {
   "cell_type": "markdown",
   "id": "fc34ef4f-5804-4d9d-8a7d-94882da61972",
   "metadata": {},
   "source": [
    "# ===== LOAD THE DATASET ====="
   ]
  },
  {
   "cell_type": "code",
   "execution_count": 2,
   "id": "32f66ea0-47e9-4803-b333-6c901931377e",
   "metadata": {},
   "outputs": [
    {
     "name": "stdout",
     "output_type": "stream",
     "text": [
      "Dataset shape: (6607, 21)\n"
     ]
    }
   ],
   "source": [
    "\n",
    "# Load your cleaned dataset\n",
    "df = pd.read_csv('cleaned_dataset.csv')  # Replace with your file path\n",
    "print(f\"Dataset shape: {df.shape}\")\n",
    "#print(f\"Columns: {list(df.columns)}\")"
   ]
  },
  {
   "cell_type": "markdown",
   "id": "0cac0f15-aee3-4a2a-bcc4-a0a56b37fb68",
   "metadata": {},
   "source": [
    "# ===== DATA PREPARATION ====="
   ]
  },
  {
   "cell_type": "code",
   "execution_count": 3,
   "id": "ce919948-96a3-49e2-b7c6-29c8084de665",
   "metadata": {},
   "outputs": [
    {
     "name": "stdout",
     "output_type": "stream",
     "text": [
      "Features shape: (6607, 19)\n",
      "Categorical columns encoded: ['Gender', 'Teacher_Feedback', 'Parental_Involvement', 'Access_to_Resources', 'Extracurricular_Activities', 'Physical_Activity.1', 'Internet_Access', 'Family_Income', 'School_Type', 'Peer_Influence', 'Learning_Disabilities', 'Parental_Education_Level', 'Distance_from_Home']\n"
     ]
    }
   ],
   "source": [
    "\n",
    "# Create target variable (Performance Categories)\n",
    "def create_performance_categories(scores, thresholds=[60, 80]):\n",
    "    \"\"\"Create performance categories from scores\"\"\"\n",
    "    categories = []\n",
    "    for score in scores:\n",
    "        if score < thresholds[0]:\n",
    "            categories.append(0)  # At Risk\n",
    "        elif score < thresholds[1]:\n",
    "            categories.append(1)  # Average\n",
    "        else:\n",
    "            categories.append(2)  # High Performance\n",
    "    return categories\n",
    "\n",
    "# Assuming 'Previous_Scores' as target - replace with your target column\n",
    "target_column = 'Previous_Scores'  # CHANGE THIS TO YOUR TARGET COLUMN\n",
    "df['Performance_Category'] = create_performance_categories(df[target_column])\n",
    "\n",
    "# Prepare features\n",
    "X = df.drop([target_column, 'Performance_Category', 'student_id'], axis=1)\n",
    "y_regression = df[target_column]\n",
    "y_classification = df['Performance_Category']\n",
    "\n",
    "# Handle categorical variables\n",
    "categorical_cols = X.select_dtypes(include=['object']).columns\n",
    "label_encoders = {}\n",
    "\n",
    "for col in categorical_cols:\n",
    "    le = LabelEncoder()\n",
    "    X[col] = le.fit_transform(X[col].astype(str))\n",
    "    label_encoders[col] = le\n",
    "\n",
    "print(f\"Features shape: {X.shape}\")\n",
    "print(f\"Categorical columns encoded: {list(categorical_cols)}\")"
   ]
  },
  {
   "cell_type": "markdown",
   "id": "866d6445-237f-4a87-8621-7a6a3f21451e",
   "metadata": {},
   "source": [
    "# ===== CLASSIFICATION MODEL ====="
   ]
  },
  {
   "cell_type": "code",
   "execution_count": 4,
   "id": "be925a3e-5fa7-419e-a370-9c625553cf7e",
   "metadata": {},
   "outputs": [
    {
     "name": "stdout",
     "output_type": "stream",
     "text": [
      "\n",
      "==================================================\n",
      "CLASSIFICATION MODEL - PERFORMANCE CATEGORIES\n",
      "==================================================\n",
      "Classification Results:\n",
      "Accuracy: 0.4123\n",
      "\n",
      "Classification Report:\n",
      "                  precision    recall  f1-score   support\n",
      "\n",
      "         At Risk       0.00      0.00      0.00       247\n",
      "         Average       0.42      0.47      0.44       532\n",
      "High Performance       0.41      0.55      0.47       543\n",
      "\n",
      "        accuracy                           0.41      1322\n",
      "       macro avg       0.28      0.34      0.30      1322\n",
      "    weighted avg       0.34      0.41      0.37      1322\n",
      "\n"
     ]
    }
   ],
   "source": [
    "\n",
    "print(\"\\n\" + \"=\"*50)\n",
    "print(\"CLASSIFICATION MODEL - PERFORMANCE CATEGORIES\")\n",
    "print(\"=\"*50)\n",
    "\n",
    "# Split data for classification\n",
    "X_train_clf, X_test_clf, y_train_clf, y_test_clf = train_test_split(\n",
    "    X, y_classification, test_size=0.2, random_state=42, stratify=y_classification\n",
    ")\n",
    "\n",
    "# Scale features\n",
    "scaler_clf = StandardScaler()\n",
    "X_train_clf_scaled = scaler_clf.fit_transform(X_train_clf)\n",
    "X_test_clf_scaled = scaler_clf.transform(X_test_clf)\n",
    "\n",
    "# Train Random Forest Classifier\n",
    "rf_classifier = RandomForestClassifier(\n",
    "    n_estimators=100,\n",
    "    max_depth=10,\n",
    "    min_samples_split=5,\n",
    "    random_state=42\n",
    ")\n",
    "\n",
    "rf_classifier.fit(X_train_clf_scaled, y_train_clf)\n",
    "\n",
    "# Predictions\n",
    "y_pred_clf = rf_classifier.predict(X_test_clf_scaled)\n",
    "\n",
    "# Classification Results\n",
    "print(\"Classification Results:\")\n",
    "print(f\"Accuracy: {accuracy_score(y_test_clf, y_pred_clf):.4f}\")\n",
    "print(\"\\nClassification Report:\")\n",
    "print(classification_report(y_test_clf, y_pred_clf, \n",
    "                          target_names=['At Risk', 'Average', 'High Performance']))\n"
   ]
  },
  {
   "cell_type": "markdown",
   "id": "adb3406b-653a-441b-9965-831ee32d272d",
   "metadata": {},
   "source": [
    "# ===== REGRESSION MODEL ====="
   ]
  },
  {
   "cell_type": "code",
   "execution_count": 5,
   "id": "11a1c545-9bc6-41ce-a4b5-c9de73057ffc",
   "metadata": {},
   "outputs": [
    {
     "name": "stdout",
     "output_type": "stream",
     "text": [
      "\n",
      "==================================================\n",
      "REGRESSION MODEL - SCORE PREDICTION\n",
      "==================================================\n",
      "Regression Results:\n",
      "R² Score: -0.0072\n",
      "RMSE: 14.4114\n",
      "Mean Squared Error: 207.6872\n"
     ]
    }
   ],
   "source": [
    "\n",
    "print(\"\\n\" + \"=\"*50)\n",
    "print(\"REGRESSION MODEL - SCORE PREDICTION\")\n",
    "print(\"=\"*50)\n",
    "\n",
    "# Split data for regression\n",
    "X_train_reg, X_test_reg, y_train_reg, y_test_reg = train_test_split(\n",
    "    X, y_regression, test_size=0.2, random_state=42\n",
    ")\n",
    "\n",
    "# Scale features\n",
    "scaler_reg = StandardScaler()\n",
    "X_train_reg_scaled = scaler_reg.fit_transform(X_train_reg)\n",
    "X_test_reg_scaled = scaler_reg.transform(X_test_reg)\n",
    "\n",
    "# Train Random Forest Regressor\n",
    "rf_regressor = RandomForestRegressor(\n",
    "    n_estimators=100,\n",
    "    max_depth=10,\n",
    "    min_samples_split=5,\n",
    "    random_state=42\n",
    ")\n",
    "\n",
    "rf_regressor.fit(X_train_reg_scaled, y_train_reg)\n",
    "\n",
    "# Predictions\n",
    "y_pred_reg = rf_regressor.predict(X_test_reg_scaled)\n",
    "\n",
    "# Regression Results\n",
    "mse = mean_squared_error(y_test_reg, y_pred_reg)\n",
    "r2 = r2_score(y_test_reg, y_pred_reg)\n",
    "rmse = np.sqrt(mse)\n",
    "\n",
    "print(\"Regression Results:\")\n",
    "print(f\"R² Score: {r2:.4f}\")\n",
    "print(f\"RMSE: {rmse:.4f}\")\n",
    "print(f\"Mean Squared Error: {mse:.4f}\")"
   ]
  },
  {
   "cell_type": "markdown",
   "id": "95d46195-276f-47af-91b1-28262a5e0ac1",
   "metadata": {},
   "source": [
    "# ===== MODEL OPTIMIZATION ====="
   ]
  },
  {
   "cell_type": "code",
   "execution_count": 6,
   "id": "d1937e63-e03c-4144-bf15-b15286f41bca",
   "metadata": {},
   "outputs": [
    {
     "name": "stdout",
     "output_type": "stream",
     "text": [
      "\n",
      "==================================================\n",
      "MODEL OPTIMIZATION - HYPERPARAMETER TUNING\n",
      "==================================================\n",
      "Optimizing Classification Model...\n",
      "Best Classification Parameters: {'max_depth': 10, 'min_samples_split': 2, 'n_estimators': 200}\n",
      "Best Classification Accuracy: 0.4070\n"
     ]
    }
   ],
   "source": [
    "\n",
    "print(\"\\n\" + \"=\"*50)\n",
    "print(\"MODEL OPTIMIZATION - HYPERPARAMETER TUNING\")\n",
    "print(\"=\"*50)\n",
    "\n",
    "# Hyperparameter tuning for Random Forest Classifier\n",
    "param_grid = {\n",
    "    'n_estimators': [50, 100, 200],\n",
    "    'max_depth': [5, 10, 15],\n",
    "    'min_samples_split': [2, 5, 10]\n",
    "}\n",
    "\n",
    "print(\"Optimizing Classification Model...\")\n",
    "grid_search_clf = GridSearchCV(\n",
    "    RandomForestClassifier(random_state=42),\n",
    "    param_grid,\n",
    "    cv=5,\n",
    "    scoring='accuracy',\n",
    "    n_jobs=-1\n",
    ")\n",
    "\n",
    "grid_search_clf.fit(X_train_clf_scaled, y_train_clf)\n",
    "\n",
    "# Best model for classification\n",
    "best_rf_clf = grid_search_clf.best_estimator_\n",
    "best_pred_clf = best_rf_clf.predict(X_test_clf_scaled)\n",
    "\n",
    "print(f\"Best Classification Parameters: {grid_search_clf.best_params_}\")\n",
    "print(f\"Best Classification Accuracy: {accuracy_score(y_test_clf, best_pred_clf):.4f}\")\n"
   ]
  },
  {
   "cell_type": "markdown",
   "id": "2dac2573-b63f-4769-bdfa-b75187f4c8cc",
   "metadata": {},
   "source": [
    "# ===== CROSS VALIDATION ====="
   ]
  },
  {
   "cell_type": "code",
   "execution_count": 7,
   "id": "f7165981-6c32-4b68-9f01-5dd6b8785bc3",
   "metadata": {},
   "outputs": [
    {
     "name": "stdout",
     "output_type": "stream",
     "text": [
      "\n",
      "==================================================\n",
      "CROSS VALIDATION\n",
      "==================================================\n",
      "Classification CV Scores: [0.42478713 0.44654683 0.42857143 0.43140965 0.42857143]\n",
      "Classification CV Mean: 0.4320 (+/- 0.0152)\n",
      "Regression CV Scores: [-0.02219532 -0.01050838 -0.01561283 -0.00443773 -0.00906181]\n",
      "Regression CV Mean: -0.0124 (+/- 0.0121)\n"
     ]
    }
   ],
   "source": [
    "\n",
    "print(\"\\n\" + \"=\"*50)\n",
    "print(\"CROSS VALIDATION\")\n",
    "print(\"=\"*50)\n",
    "\n",
    "# Cross-validation for classification\n",
    "cv_scores_clf = cross_val_score(best_rf_clf, X_train_clf_scaled, y_train_clf, cv=5)\n",
    "print(f\"Classification CV Scores: {cv_scores_clf}\")\n",
    "print(f\"Classification CV Mean: {cv_scores_clf.mean():.4f} (+/- {cv_scores_clf.std() * 2:.4f})\")\n",
    "\n",
    "# Cross-validation for regression\n",
    "cv_scores_reg = cross_val_score(rf_regressor, X_train_reg_scaled, y_train_reg, cv=5, scoring='r2')\n",
    "print(f\"Regression CV Scores: {cv_scores_reg}\")\n",
    "print(f\"Regression CV Mean: {cv_scores_reg.mean():.4f} (+/- {cv_scores_reg.std() * 2:.4f})\")\n"
   ]
  },
  {
   "cell_type": "markdown",
   "id": "df298bfe-c773-4850-b82f-4450fec473f8",
   "metadata": {},
   "source": [
    "# ===== PREDICTIONS ON NEW DATA ====="
   ]
  },
  {
   "cell_type": "code",
   "execution_count": 8,
   "id": "67a27b42-01da-4196-ad3a-0fa45acd61df",
   "metadata": {},
   "outputs": [
    {
     "name": "stdout",
     "output_type": "stream",
     "text": [
      "\n",
      "==================================================\n",
      "PREDICTIONS ON NEW DATA\n",
      "==================================================\n",
      "Top 10 Most Important Features:\n",
      "                 feature  importance\n",
      "3             Attendance    0.141271\n",
      "4          Hours_Studied    0.128829\n",
      "8            Sleep_Hours    0.074445\n",
      "1                    age    0.070711\n",
      "12     Tutoring_Sessions    0.070156\n",
      "9      Physical_Activity    0.063090\n",
      "13         Family_Income    0.044243\n",
      "10   Physical_Activity.1    0.043521\n",
      "15        Peer_Influence    0.043136\n",
      "5   Parental_Involvement    0.042476\n",
      "\n",
      "Sample Student Prediction:\n",
      "Category: Average\n",
      "Predicted Score: 72.42\n",
      "Recommendations:\n",
      "  • 📖 Develop consistent study habits\n",
      "  • 🏃‍♂️ Balance physical activities with academics\n",
      "  • 💻 Utilize all available learning resources\n",
      "  • 👨‍👩‍👧‍👦 Increase parental involvement in studies\n",
      "\n",
      "--------------------------------------------------\n",
      "CREATING NEW SAMPLE PREDICTION\n",
      "--------------------------------------------------\n",
      "New Student Profile:\n",
      "• Age: 16, Attendance: 85%, Study Hours: 5/day\n",
      "• Sleep: 7hrs, Tutoring: 2 sessions/week\n",
      "\n",
      "Prediction Results:\n",
      "• Category: Average\n",
      "• Predicted Score: 75.41\n",
      "\n",
      "Personalized Recommendations:\n",
      "  1. 📖 Develop consistent study habits\n",
      "  2. 🏃‍♂️ Balance physical activities with academics\n",
      "  3. 💻 Utilize all available learning resources\n",
      "  4. 👨‍👩‍👧‍👦 Increase parental involvement in studies\n"
     ]
    }
   ],
   "source": [
    "# ===== PREDICTIONS ON NEW DATA =====\n",
    "print(\"\\n\" + \"=\"*50)\n",
    "print(\"PREDICTIONS ON NEW DATA\")\n",
    "print(\"=\"*50)\n",
    "\n",
    "# Feature importance\n",
    "feature_importance = pd.DataFrame({\n",
    "    'feature': X.columns,\n",
    "    'importance': best_rf_clf.feature_importances_\n",
    "}).sort_values('importance', ascending=False)\n",
    "\n",
    "print(\"Top 10 Most Important Features:\")\n",
    "print(feature_importance.head(10))\n",
    "\n",
    "# Sample prediction function\n",
    "def predict_student_performance(student_data):\n",
    "    \"\"\"Predict performance for new student data\"\"\"\n",
    "    # Encode categorical variables\n",
    "    student_encoded = student_data.copy()\n",
    "    \n",
    "    for col, encoder in label_encoders.items():\n",
    "        if col in student_encoded.columns:\n",
    "            try:\n",
    "                # Try to transform the value\n",
    "                value = str(student_encoded[col].iloc[0])\n",
    "                student_encoded[col] = encoder.transform([value])\n",
    "            except ValueError:\n",
    "                # Handle unseen labels by using the most frequent class (silently)\n",
    "                student_encoded[col] = [0]\n",
    "    \n",
    "    # Scale features\n",
    "    student_scaled = scaler_clf.transform(student_encoded)\n",
    "    \n",
    "    # Predictions\n",
    "    category_pred = best_rf_clf.predict(student_scaled)[0]\n",
    "    score_pred = rf_regressor.predict(scaler_reg.transform(student_encoded))[0]\n",
    "    \n",
    "    categories = ['At Risk', 'Average', 'High Performance']\n",
    "    \n",
    "    return {\n",
    "        'predicted_category': categories[category_pred],\n",
    "        'predicted_score': round(score_pred, 2),\n",
    "        'recommendations': generate_recommendations(category_pred, score_pred)\n",
    "    }\n",
    "\n",
    "def generate_recommendations(category, score):\n",
    "    \"\"\"Generate recommendations based on prediction\"\"\"\n",
    "    recommendations = []\n",
    "    \n",
    "    if category == 0:  # At Risk\n",
    "        recommendations = [\n",
    "            \"📚 Increase daily study hours to 6-8 hours\",\n",
    "            \"👥 Consider additional tutoring sessions\",\n",
    "            \"✅ Focus on improving attendance (target 90%+)\",\n",
    "            \"💤 Maintain proper sleep schedule (7-8 hours)\"\n",
    "        ]\n",
    "    elif category == 1:  # Average\n",
    "        recommendations = [\n",
    "            \"📖 Develop consistent study habits\",\n",
    "            \"🏃‍♂️ Balance physical activities with academics\",\n",
    "            \"💻 Utilize all available learning resources\",\n",
    "            \"👨‍👩‍👧‍👦 Increase parental involvement in studies\"\n",
    "        ]\n",
    "    else:  # High Performance\n",
    "        recommendations = [\n",
    "            \"🎯 Maintain current excellent routine\",\n",
    "            \"🏆 Take on leadership roles in activities\",\n",
    "            \"🤝 Consider peer tutoring opportunities\",\n",
    "            \"📈 Explore advanced learning materials\"\n",
    "        ]\n",
    "    \n",
    "    return recommendations\n",
    "\n",
    "# Example prediction on first student\n",
    "sample_student = X.iloc[0:1]\n",
    "try:\n",
    "    prediction_result = predict_student_performance(sample_student)\n",
    "    \n",
    "    print(\"\\nSample Student Prediction:\")\n",
    "    print(f\"Category: {prediction_result['predicted_category']}\")\n",
    "    print(f\"Predicted Score: {prediction_result['predicted_score']}\")\n",
    "    print(\"Recommendations:\")\n",
    "    for rec in prediction_result['recommendations']:\n",
    "        print(f\"  • {rec}\")\n",
    "except Exception as e:\n",
    "    print(f\"Prediction error: {e}\")\n",
    "    print(\"This might be due to data preprocessing differences.\")\n",
    "    \n",
    "# Alternative: Create a new sample student with known values\n",
    "print(\"\\n\" + \"-\"*50)\n",
    "print(\"CREATING NEW SAMPLE PREDICTION\")\n",
    "print(\"-\"*50)\n",
    "\n",
    "# Create a sample student with typical values\n",
    "new_student_data = pd.DataFrame({\n",
    "    'Gender': [1],  # Assuming encoded: 0=Female, 1=Male\n",
    "    'age': [16],\n",
    "    'Teacher_Feedback': [3],  # Assuming 1-5 scale\n",
    "    'Attendance': [85],  # 85% attendance\n",
    "    'Hours_Studied': [5],  # 5 hours per day\n",
    "    'Parental_Involvement': [2],  # Medium involvement\n",
    "    'Access_to_Resources': [1],  # Has access\n",
    "    'Extracurricular_Activities': [1],  # Participates\n",
    "    'Sleep_Hours': [7],  # 7 hours sleep\n",
    "    'Physical_Activity': [3],  # Medium activity\n",
    "    'Physical_Activity.1': [3],  # Duplicate column\n",
    "    'Internet_Access': [1],  # Has internet\n",
    "    'Tutoring_Sessions': [2],  # 2 sessions per week\n",
    "    'Family_Income': [50000],  # Medium income\n",
    "    'School_Type': [1],  # Assuming encoded\n",
    "    'Peer_Influence': [2],  # Positive influence\n",
    "    'Learning_Disabilities': [0],  # No disabilities\n",
    "    'Parental_Education_Level': [3],  # College level\n",
    "    'Distance_from_Home': [5]  # 5 km from school\n",
    "})\n",
    "\n",
    "# Predict for new student\n",
    "try:\n",
    "    new_prediction = predict_student_performance(new_student_data)\n",
    "    \n",
    "    print(\"New Student Profile:\")\n",
    "    print(f\"• Age: 16, Attendance: 85%, Study Hours: 5/day\")\n",
    "    print(f\"• Sleep: 7hrs, Tutoring: 2 sessions/week\")\n",
    "    print(f\"\\nPrediction Results:\")\n",
    "    print(f\"• Category: {new_prediction['predicted_category']}\")\n",
    "    print(f\"• Predicted Score: {new_prediction['predicted_score']}\")\n",
    "    print(f\"\\nPersonalized Recommendations:\")\n",
    "    for i, rec in enumerate(new_prediction['recommendations'], 1):\n",
    "        print(f\"  {i}. {rec}\")\n",
    "        \n",
    "except Exception as e:\n",
    "    print(f\"Error in prediction: {e}\")\n",
    "    print(\"Please check your data preprocessing and feature names.\")\n"
   ]
  },
  {
   "cell_type": "markdown",
   "id": "402721f7-05f2-4c28-94cc-5039e4feb69f",
   "metadata": {},
   "source": [
    "# ===== OUTPUT ====="
   ]
  },
  {
   "cell_type": "code",
   "execution_count": 9,
   "id": "daceb3bf-8e55-4a9c-847b-78e8fe7288bf",
   "metadata": {},
   "outputs": [
    {
     "name": "stdout",
     "output_type": "stream",
     "text": [
      "\n",
      "==================================================\n",
      "OUTPUT SUMMARY\n",
      "==================================================\n",
      "Model Performance Summary:\n",
      "• Classification Accuracy: 0.4070\n",
      "• Regression R² Score: -0.0072\n",
      "• Total Students Analyzed: 6607\n",
      "• Features Used: 19\n",
      "• At Risk Students: 1235 (18.7%)\n",
      "• Average Students: 2657 (40.2%)\n",
      "• High Performance Students: 2715 (41.1%)\n",
      "\n",
      "Model Ready for Production!\n",
      "Use predict_student_performance() function for new predictions.\n"
     ]
    }
   ],
   "source": [
    "\n",
    "print(\"\\n\" + \"=\"*50)\n",
    "print(\"OUTPUT SUMMARY\")\n",
    "print(\"=\"*50)\n",
    "\n",
    "print(\"Model Performance Summary:\")\n",
    "print(f\"• Classification Accuracy: {accuracy_score(y_test_clf, best_pred_clf):.4f}\")\n",
    "print(f\"• Regression R² Score: {r2:.4f}\")\n",
    "print(f\"• Total Students Analyzed: {len(df)}\")\n",
    "print(f\"• Features Used: {len(X.columns)}\")\n",
    "print(f\"• At Risk Students: {sum(y_classification == 0)} ({sum(y_classification == 0)/len(df)*100:.1f}%)\")\n",
    "print(f\"• Average Students: {sum(y_classification == 1)} ({sum(y_classification == 1)/len(df)*100:.1f}%)\")\n",
    "print(f\"• High Performance Students: {sum(y_classification == 2)} ({sum(y_classification == 2)/len(df)*100:.1f}%)\")\n",
    "\n",
    "print(\"\\nModel Ready for Production!\")\n",
    "print(\"Use predict_student_performance() function for new predictions.\")"
   ]
  },
  {
   "cell_type": "markdown",
   "id": "182f2976-9b28-4751-b535-2718bb8349cc",
   "metadata": {},
   "source": [
    "# ===== SAVE TRAINED MODELS ====="
   ]
  },
  {
   "cell_type": "code",
   "execution_count": 10,
   "id": "fe3a47c5-c14c-4ba8-8c72-9f43958474f3",
   "metadata": {},
   "outputs": [
    {
     "name": "stdout",
     "output_type": "stream",
     "text": [
      "\n",
      "==================================================\n",
      "SAVING TRAINED MODELS\n",
      "==================================================\n",
      "✅ Models saved successfully:\n",
      "  • rf_grade_predictor.pkl - Regression model\n",
      "  • rf_performance_classifier.pkl - Classification model\n",
      "  • scaler_classifier.pkl - Feature scaler for classification\n",
      "  • scaler_regressor.pkl - Feature scaler for regression\n",
      "  • label_encoders.pkl - Categorical encoders\n",
      "  • feature_importance.pkl - Feature importance data\n"
     ]
    }
   ],
   "source": [
    "\n",
    "\n",
    "print(\"\\n\" + \"=\"*50)\n",
    "print(\"SAVING TRAINED MODELS\")\n",
    "print(\"=\"*50)\n",
    "\n",
    "try:\n",
    "    import joblib\n",
    "    \n",
    "    # Save all models and preprocessors\n",
    "    joblib.dump(rf_regressor, 'rf_grade_predictor.pkl')\n",
    "    joblib.dump(best_rf_clf, 'rf_performance_classifier.pkl')  # Use optimized model\n",
    "    joblib.dump(scaler_clf, 'scaler_classifier.pkl')\n",
    "    joblib.dump(scaler_reg, 'scaler_regressor.pkl')\n",
    "    joblib.dump(label_encoders, 'label_encoders.pkl')\n",
    "    joblib.dump(feature_importance, 'feature_importance.pkl')\n",
    "    \n",
    "    print(\"✅ Models saved successfully:\")\n",
    "    print(\"  • rf_grade_predictor.pkl - Regression model\")\n",
    "    print(\"  • rf_performance_classifier.pkl - Classification model\")\n",
    "    print(\"  • scaler_classifier.pkl - Feature scaler for classification\")\n",
    "    print(\"  • scaler_regressor.pkl - Feature scaler for regression\")\n",
    "    print(\"  • label_encoders.pkl - Categorical encoders\")\n",
    "    print(\"  • feature_importance.pkl - Feature importance data\")\n",
    "    \n",
    "except ImportError:\n",
    "    print(\"❌ joblib not installed. Install with: pip install joblib\")\n",
    "except Exception as e:\n",
    "    print(f\"❌ Error saving models: {e}\")"
   ]
  },
  {
   "cell_type": "code",
   "execution_count": null,
   "id": "86b5cc92-2f40-4102-ae32-e2d91b9f60d0",
   "metadata": {},
   "outputs": [],
   "source": []
  },
  {
   "cell_type": "code",
   "execution_count": null,
   "id": "ecb5e444-1b81-4d87-a026-340b0b6ed385",
   "metadata": {},
   "outputs": [],
   "source": []
  },
  {
   "cell_type": "code",
   "execution_count": null,
   "id": "ad2b544d-b7db-45cb-b9f8-45463772d18c",
   "metadata": {},
   "outputs": [],
   "source": []
  },
  {
   "cell_type": "code",
   "execution_count": null,
   "id": "e0e87afa-83e9-420b-9e31-18f3564571cd",
   "metadata": {},
   "outputs": [],
   "source": []
  },
  {
   "cell_type": "code",
   "execution_count": null,
   "id": "734f3091-dd43-44cd-805f-7672d537d9d9",
   "metadata": {},
   "outputs": [],
   "source": []
  },
  {
   "cell_type": "code",
   "execution_count": null,
   "id": "dec24a69-6906-4413-bb40-055d62dcf7fb",
   "metadata": {},
   "outputs": [],
   "source": []
  },
  {
   "cell_type": "code",
   "execution_count": null,
   "id": "efda9287-574b-4139-ab19-0d690159121f",
   "metadata": {},
   "outputs": [],
   "source": []
  },
  {
   "cell_type": "code",
   "execution_count": null,
   "id": "b11164af-5091-4faf-abc2-d98fbbc2b874",
   "metadata": {},
   "outputs": [],
   "source": []
  },
  {
   "cell_type": "code",
   "execution_count": 14,
   "id": "e6f96bd9-1e55-407b-b6ca-cb108b93b43f",
   "metadata": {},
   "outputs": [
    {
     "name": "stdout",
     "output_type": "stream",
     "text": [
      "\n",
      "==================================================\n",
      "MODEL SUMMARY\n",
      "==================================================\n",
      "✅ Classification Accuracy: 0.4070\n",
      "✅ Regression R² Score: -0.0072\n",
      "✅ Cross-validation Mean Accuracy: 0.4320\n",
      "✅ Most Important Feature: Attendance\n",
      "\n",
      "🚀 Your Random Forest model is ready for deployment!\n"
     ]
    }
   ],
   "source": [
    "print(\"\\n\" + \"=\"*50)\n",
    "print(\"MODEL SUMMARY\")\n",
    "print(\"=\"*50)\n",
    "print(f\"✅ Classification Accuracy: {accuracy_score(y_test_clf, best_pred_clf):.4f}\")\n",
    "print(f\"✅ Regression R² Score: {r2:.4f}\")\n",
    "print(f\"✅ Cross-validation Mean Accuracy: {cv_scores_clf.mean():.4f}\")\n",
    "print(f\"✅ Most Important Feature: {feature_importance.iloc[0]['feature']}\")\n",
    "print(\"\\n🚀 Your Random Forest model is ready for deployment!\")"
   ]
  }
 ],
 "metadata": {
  "kernelspec": {
   "display_name": "Python 3 (ipykernel)",
   "language": "python",
   "name": "python3"
  },
  "language_info": {
   "codemirror_mode": {
    "name": "ipython",
    "version": 3
   },
   "file_extension": ".py",
   "mimetype": "text/x-python",
   "name": "python",
   "nbconvert_exporter": "python",
   "pygments_lexer": "ipython3",
   "version": "3.13.5"
  }
 },
 "nbformat": 4,
 "nbformat_minor": 5
}
